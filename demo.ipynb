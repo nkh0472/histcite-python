{
 "cells": [
  {
   "cell_type": "code",
   "execution_count": null,
   "metadata": {},
   "outputs": [],
   "source": [
    "from pathlib import Path\n",
    "from typing import Literal\n",
    "\n",
    "import histcite"
   ]
  },
  {
   "cell_type": "markdown",
   "metadata": {},
   "source": [
    "#### 输入文件夹路径及数据源类型"
   ]
  },
  {
   "cell_type": "code",
   "execution_count": null,
   "metadata": {},
   "outputs": [],
   "source": [
    "folder_path = Path(\"/Users/.../Downloads/dataset\")\n",
    "output_path = folder_path / \"result\"\n",
    "source: Literal[\"wos\", \"cssci\", \"scopus\"] = \"wos\""
   ]
  },
  {
   "cell_type": "markdown",
   "metadata": {},
   "source": [
    "#### 读取并处理文件"
   ]
  },
  {
   "cell_type": "code",
   "execution_count": null,
   "metadata": {},
   "outputs": [],
   "source": [
    "docs_df = histcite.ReadFile(folder_path, source).read_all()\n",
    "docs_df"
   ]
  },
  {
   "cell_type": "code",
   "execution_count": null,
   "metadata": {},
   "outputs": [],
   "source": [
    "# 查看参考文献表\n",
    "refs_df = histcite.BuildRef(docs_df, source).build()\n",
    "refs_df"
   ]
  },
  {
   "cell_type": "code",
   "execution_count": null,
   "metadata": {},
   "outputs": [],
   "source": [
    "# 查看引用关系表\n",
    "citation_matrix = histcite.BuildCitation(docs_df, refs_df, source).build()\n",
    "citation_matrix"
   ]
  },
  {
   "cell_type": "markdown",
   "metadata": {},
   "source": [
    "#### 导出描述性统计数据"
   ]
  },
  {
   "cell_type": "code",
   "execution_count": null,
   "metadata": {},
   "outputs": [],
   "source": [
    "cm = histcite.ComputeMetrics(docs_df, citation_matrix, source)\n",
    "cm.write2excel(output_path / \"descriptive.xlsx\")"
   ]
  },
  {
   "cell_type": "markdown",
   "metadata": {},
   "source": [
    "#### 导出引文网络图文件\n",
    "使用 [Graphviz 在线编辑器](http://magjac.com/graphviz-visual-editor/) 或下载到本地的 [Graphviz](https://graphviz.org/) 生成引文网络图。 "
   ]
  },
  {
   "cell_type": "code",
   "execution_count": null,
   "metadata": {},
   "outputs": [],
   "source": [
    "graph = histcite.GraphViz(docs_df, citation_matrix, source)"
   ]
  },
  {
   "cell_type": "code",
   "execution_count": null,
   "metadata": {},
   "outputs": [],
   "source": [
    "# 选取 LSC 最高的 50 篇文献\n",
    "node_list = (\n",
    "    citation_matrix[citation_matrix[\"LCS\"] > 0]\n",
    "    .sort_values(\"LCS\", ascending=False)\n",
    "    .index[:50]\n",
    "    .tolist()\n",
    ")\n",
    "graph_dot_file = graph.generate_dot_file(node_list)\n",
    "print(graph_dot_file)"
   ]
  },
  {
   "cell_type": "code",
   "execution_count": null,
   "metadata": {},
   "outputs": [],
   "source": [
    "# 选取 LSC 大于等于 5 的文献\n",
    "node_list = citation_matrix[citation_matrix[\"LCS\"] >= 5].index.tolist()\n",
    "graph_dot_file = graph.generate_dot_file(node_list)\n",
    "print(graph_dot_file)"
   ]
  },
  {
   "cell_type": "code",
   "execution_count": null,
   "metadata": {},
   "outputs": [],
   "source": [
    "# 查看编号为 10 的文献的参考文献网络图，禁用时间线\n",
    "graph_dot_file = graph.generate_dot_file(10, edge_type=\"cited\", show_timeline=False)\n",
    "print(graph_dot_file)"
   ]
  },
  {
   "cell_type": "code",
   "execution_count": null,
   "metadata": {},
   "outputs": [],
   "source": [
    "# 查看编号为 10 的文献的引用文献网络图\n",
    "graph_dot_file = graph.generate_dot_file(10, edge_type=\"citing\")\n",
    "print(graph_dot_file)"
   ]
  },
  {
   "cell_type": "code",
   "execution_count": null,
   "metadata": {},
   "outputs": [],
   "source": [
    "# 查看编号为 10 的文献的引文网络图，包含参考文献和引用文献\n",
    "graph_dot_file = graph.generate_dot_file(10)\n",
    "print(graph_dot_file)"
   ]
  },
  {
   "cell_type": "code",
   "execution_count": null,
   "metadata": {},
   "outputs": [],
   "source": [
    "# 导出 dot 文件\n",
    "with open(output_path / \"graph.dot\", \"w\") as f:\n",
    "    f.write(graph_dot_file)"
   ]
  },
  {
   "cell_type": "code",
   "execution_count": null,
   "metadata": {},
   "outputs": [],
   "source": [
    "# 查看图节点信息\n",
    "graph_node_info = graph.generate_graph_node_info()\n",
    "graph_node_info"
   ]
  },
  {
   "cell_type": "code",
   "execution_count": null,
   "metadata": {},
   "outputs": [],
   "source": [
    "# 导出图节点信息\n",
    "graph_node_info.to_excel(output_path / \"graph_node_info.xlsx\", index=False)"
   ]
  }
 ],
 "metadata": {
  "kernelspec": {
   "display_name": "Python 3",
   "language": "python",
   "name": "python3"
  },
  "language_info": {
   "codemirror_mode": {
    "name": "ipython",
    "version": 3
   },
   "file_extension": ".py",
   "mimetype": "text/x-python",
   "name": "python",
   "nbconvert_exporter": "python",
   "pygments_lexer": "ipython3",
   "version": "3.11.8"
  },
  "orig_nbformat": 4
 },
 "nbformat": 4,
 "nbformat_minor": 2
}
